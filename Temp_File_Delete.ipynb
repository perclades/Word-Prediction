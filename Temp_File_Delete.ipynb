{
 "cells": [
  {
   "cell_type": "code",
   "execution_count": 7,
   "metadata": {},
   "outputs": [],
   "source": [
    "import glob\n",
    "import os\n",
    "import time"
   ]
  },
  {
   "cell_type": "code",
   "execution_count": 2,
   "metadata": {},
   "outputs": [],
   "source": [
    "location = \"C:/Users/.../AppData/Local/Temp/RtmpqmfBOw\"\n",
    "os.chdir(location)"
   ]
  },
  {
   "cell_type": "code",
   "execution_count": 9,
   "metadata": {},
   "outputs": [],
   "source": [
    "for i in range(1,100000):\n",
    "    time.sleep(20)\n",
    "    files_path = os.path.join(location, '*')\n",
    "    files = sorted(glob.iglob(files_path), key=os.path.getctime, reverse=True) \n",
    "    if len(files) > 15:\n",
    "        for j in range(5,15):\n",
    "            try:\n",
    "                os.remove(files[j])\n",
    "            except:\n",
    "                pass"
   ]
  }
 ],
 "metadata": {
  "interpreter": {
   "hash": "5bb81219f56a9a5ec02993db0ee2bc87ce15899bb937bb996a774773abbac26f"
  },
  "kernelspec": {
   "display_name": "Python 3.7.7 64-bit",
   "language": "python",
   "name": "python3"
  },
  "language_info": {
   "codemirror_mode": {
    "name": "ipython",
    "version": 3
   },
   "file_extension": ".py",
   "mimetype": "text/x-python",
   "name": "python",
   "nbconvert_exporter": "python",
   "pygments_lexer": "ipython3",
   "version": "3.7.7"
  },
  "orig_nbformat": 4
 },
 "nbformat": 4,
 "nbformat_minor": 2
}
